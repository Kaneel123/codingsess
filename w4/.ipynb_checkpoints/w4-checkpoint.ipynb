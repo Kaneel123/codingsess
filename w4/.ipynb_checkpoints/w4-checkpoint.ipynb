{
 "cells": [
  {
   "cell_type": "code",
   "execution_count": 50,
   "metadata": {},
   "outputs": [],
   "source": [
    "import numpy as np\n",
    "import pandas as pd\n",
    "import matplotlib.pyplot as plt\n",
    "import drawnow\n"
   ]
  },
  {
   "cell_type": "markdown",
   "metadata": {},
   "source": [
    "Hey guys! Hope you are excited to start week 4! 😃\n",
    "\n",
    "We will go over for loops again this week but a bit harder than last weeks. I will give you a task to start this week just to refresh your memory about for loops since we missed last week 😞\n",
    "\n",
    "**Task 1**\n",
    "\n",
    "a. Create a 10 x 10 matrix with ones. Fill the matrix with zeros using a for loop. (note - you will get bonus points if you did not look at last weeks code. Also I recommend using google to get help if you can't remember. In other words try not to look at last weeks code😝)\n",
    "\n",
    "b. Now create 5 x 5 matrix with zeros. Fill the entire 3rd row with ones. (Only the third row)\n",
    "\n",
    "c. In parts a and b explain what happens in each iteration."
   ]
  },
  {
   "cell_type": "markdown",
   "metadata": {},
   "source": [
    "\n",
    "\n",
    "\n",
    "Now we will go through **<u>functions</u>**. In python we can use 'def' to assign a function. So if we want to assign a function that adds two numbers 'a' and 'b' we can do the following."
   ]
  },
  {
   "cell_type": "code",
   "execution_count": 64,
   "metadata": {},
   "outputs": [
    {
     "data": {
      "text/plain": [
       "1010.0909090909091"
      ]
     },
     "execution_count": 64,
     "metadata": {},
     "output_type": "execute_result"
    }
   ],
   "source": [
    "def add(a,b):   #add is the name of the function.\n",
    "    sum = a + b #here we define the relationship between a and b\n",
    "    return(sum) #here we define the output\n",
    "\n",
    "add(11111,11) #now we can use this to add numbers.... "
   ]
  },
  {
   "cell_type": "markdown",
   "metadata": {},
   "source": [
    "**Task 2** \n",
    "\n",
    "a. Create functions for subtraction, multiplication and division."
   ]
  },
  {
   "cell_type": "markdown",
   "metadata": {},
   "source": [
    "Now lets try using both functions and for loops in the same example! \n",
    "\n",
    "Lets say we want to find the first n fibonnaci numbers(where n is an integer). \n",
    "\n",
    "(Also if you don't fibonnacci sequence, it is a sequence such that each number is the sum of the two preceding ones, starting from 0 and 1. So the sequence is 1,1,2,3,5,8,13,21....and it goes on. Also google fibonacci spiral! its pretty interesting!)\n",
    "\n",
    "So lets write a function to find the first n fibonacci numbers."
   ]
  },
  {
   "cell_type": "code",
   "execution_count": 80,
   "metadata": {},
   "outputs": [
    {
     "name": "stdout",
     "output_type": "stream",
     "text": [
      "0\n",
      "1\n",
      "1\n",
      "2\n",
      "3\n",
      "5\n",
      "8\n",
      "13\n",
      "21\n",
      "34\n"
     ]
    }
   ],
   "source": [
    "def fib(n):\n",
    "    \n",
    "    a = 0 #define the first fibonacci number\n",
    "    b = 1 #define the second fibonacci number\n",
    "    \n",
    "    print(a)\n",
    "    print(b)\n",
    "    \n",
    "    for i in range(2,n):\n",
    "        c = a + b\n",
    "        a = b\n",
    "        b = c\n",
    "        print(c)  \n",
    "        \n",
    "fib(10) #now you can find the first fibonacci numbers. Try 100 its actually gonna give you the first 100 fib numbers. I didn't\n",
    "#try any further but you can try :D"
   ]
  },
  {
   "cell_type": "markdown",
   "metadata": {},
   "source": [
    "**Task 3**\n",
    "\n",
    "a. Write the values of a, b, c in the first 5 iterations of the for loop in the code.\n",
    "\n",
    "b. Why do I have the range starting from 2? "
   ]
  },
  {
   "cell_type": "code",
   "execution_count": null,
   "metadata": {},
   "outputs": [],
   "source": []
  },
  {
   "cell_type": "code",
   "execution_count": null,
   "metadata": {},
   "outputs": [],
   "source": []
  }
 ],
 "metadata": {
  "kernelspec": {
   "display_name": "Python 3",
   "language": "python",
   "name": "python3"
  },
  "language_info": {
   "codemirror_mode": {
    "name": "ipython",
    "version": 3
   },
   "file_extension": ".py",
   "mimetype": "text/x-python",
   "name": "python",
   "nbconvert_exporter": "python",
   "pygments_lexer": "ipython3",
   "version": "3.7.6"
  }
 },
 "nbformat": 4,
 "nbformat_minor": 4
}
